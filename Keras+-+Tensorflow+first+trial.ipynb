{
 "cells": [
  {
   "cell_type": "code",
   "execution_count": 1,
   "metadata": {
    "collapsed": true
   },
   "outputs": [],
   "source": [
    "import numpy as np\n",
    "import pandas as pd\n",
    "import matplotlib.pyplot as plt\n",
    "%matplotlib inline"
   ]
  },
  {
   "cell_type": "code",
   "execution_count": 2,
   "metadata": {},
   "outputs": [
    {
     "data": {
      "text/plain": [
       "'/Users/viveksasikumar/Downloads'"
      ]
     },
     "execution_count": 2,
     "metadata": {},
     "output_type": "execute_result"
    }
   ],
   "source": [
    "pwd"
   ]
  },
  {
   "cell_type": "code",
   "execution_count": 65,
   "metadata": {},
   "outputs": [],
   "source": [
    "dataset = pd.read_csv('/Users/viveksasikumar/Downloads/Machine Learning A-Z/Part 8 - Deep Learning/Section 39 - Artificial Neural Networks (ANN)/Artificial_Neural_Networks/Churn_Modelling.csv')"
   ]
  },
  {
   "cell_type": "code",
   "execution_count": 66,
   "metadata": {},
   "outputs": [
    {
     "data": {
      "text/html": [
       "<div>\n",
       "<style>\n",
       "    .dataframe thead tr:only-child th {\n",
       "        text-align: right;\n",
       "    }\n",
       "\n",
       "    .dataframe thead th {\n",
       "        text-align: left;\n",
       "    }\n",
       "\n",
       "    .dataframe tbody tr th {\n",
       "        vertical-align: top;\n",
       "    }\n",
       "</style>\n",
       "<table border=\"1\" class=\"dataframe\">\n",
       "  <thead>\n",
       "    <tr style=\"text-align: right;\">\n",
       "      <th></th>\n",
       "      <th>RowNumber</th>\n",
       "      <th>CustomerId</th>\n",
       "      <th>Surname</th>\n",
       "      <th>CreditScore</th>\n",
       "      <th>Geography</th>\n",
       "      <th>Gender</th>\n",
       "      <th>Age</th>\n",
       "      <th>Tenure</th>\n",
       "      <th>Balance</th>\n",
       "      <th>NumOfProducts</th>\n",
       "      <th>HasCrCard</th>\n",
       "      <th>IsActiveMember</th>\n",
       "      <th>EstimatedSalary</th>\n",
       "      <th>Exited</th>\n",
       "    </tr>\n",
       "  </thead>\n",
       "  <tbody>\n",
       "    <tr>\n",
       "      <th>0</th>\n",
       "      <td>1</td>\n",
       "      <td>15634602</td>\n",
       "      <td>Hargrave</td>\n",
       "      <td>619</td>\n",
       "      <td>France</td>\n",
       "      <td>Female</td>\n",
       "      <td>42</td>\n",
       "      <td>2</td>\n",
       "      <td>0.00</td>\n",
       "      <td>1</td>\n",
       "      <td>1</td>\n",
       "      <td>1</td>\n",
       "      <td>101348.88</td>\n",
       "      <td>1</td>\n",
       "    </tr>\n",
       "    <tr>\n",
       "      <th>1</th>\n",
       "      <td>2</td>\n",
       "      <td>15647311</td>\n",
       "      <td>Hill</td>\n",
       "      <td>608</td>\n",
       "      <td>Spain</td>\n",
       "      <td>Female</td>\n",
       "      <td>41</td>\n",
       "      <td>1</td>\n",
       "      <td>83807.86</td>\n",
       "      <td>1</td>\n",
       "      <td>0</td>\n",
       "      <td>1</td>\n",
       "      <td>112542.58</td>\n",
       "      <td>0</td>\n",
       "    </tr>\n",
       "    <tr>\n",
       "      <th>2</th>\n",
       "      <td>3</td>\n",
       "      <td>15619304</td>\n",
       "      <td>Onio</td>\n",
       "      <td>502</td>\n",
       "      <td>France</td>\n",
       "      <td>Female</td>\n",
       "      <td>42</td>\n",
       "      <td>8</td>\n",
       "      <td>159660.80</td>\n",
       "      <td>3</td>\n",
       "      <td>1</td>\n",
       "      <td>0</td>\n",
       "      <td>113931.57</td>\n",
       "      <td>1</td>\n",
       "    </tr>\n",
       "    <tr>\n",
       "      <th>3</th>\n",
       "      <td>4</td>\n",
       "      <td>15701354</td>\n",
       "      <td>Boni</td>\n",
       "      <td>699</td>\n",
       "      <td>France</td>\n",
       "      <td>Female</td>\n",
       "      <td>39</td>\n",
       "      <td>1</td>\n",
       "      <td>0.00</td>\n",
       "      <td>2</td>\n",
       "      <td>0</td>\n",
       "      <td>0</td>\n",
       "      <td>93826.63</td>\n",
       "      <td>0</td>\n",
       "    </tr>\n",
       "    <tr>\n",
       "      <th>4</th>\n",
       "      <td>5</td>\n",
       "      <td>15737888</td>\n",
       "      <td>Mitchell</td>\n",
       "      <td>850</td>\n",
       "      <td>Spain</td>\n",
       "      <td>Female</td>\n",
       "      <td>43</td>\n",
       "      <td>2</td>\n",
       "      <td>125510.82</td>\n",
       "      <td>1</td>\n",
       "      <td>1</td>\n",
       "      <td>1</td>\n",
       "      <td>79084.10</td>\n",
       "      <td>0</td>\n",
       "    </tr>\n",
       "  </tbody>\n",
       "</table>\n",
       "</div>"
      ],
      "text/plain": [
       "   RowNumber  CustomerId   Surname  CreditScore Geography  Gender  Age  \\\n",
       "0          1    15634602  Hargrave          619    France  Female   42   \n",
       "1          2    15647311      Hill          608     Spain  Female   41   \n",
       "2          3    15619304      Onio          502    France  Female   42   \n",
       "3          4    15701354      Boni          699    France  Female   39   \n",
       "4          5    15737888  Mitchell          850     Spain  Female   43   \n",
       "\n",
       "   Tenure    Balance  NumOfProducts  HasCrCard  IsActiveMember  \\\n",
       "0       2       0.00              1          1               1   \n",
       "1       1   83807.86              1          0               1   \n",
       "2       8  159660.80              3          1               0   \n",
       "3       1       0.00              2          0               0   \n",
       "4       2  125510.82              1          1               1   \n",
       "\n",
       "   EstimatedSalary  Exited  \n",
       "0        101348.88       1  \n",
       "1        112542.58       0  \n",
       "2        113931.57       1  \n",
       "3         93826.63       0  \n",
       "4         79084.10       0  "
      ]
     },
     "execution_count": 66,
     "metadata": {},
     "output_type": "execute_result"
    }
   ],
   "source": [
    "dataset.head()"
   ]
  },
  {
   "cell_type": "code",
   "execution_count": 67,
   "metadata": {
    "collapsed": true
   },
   "outputs": [],
   "source": [
    "X = dataset.iloc[:,3:13].values\n",
    "y = dataset.iloc[:,13].values"
   ]
  },
  {
   "cell_type": "markdown",
   "metadata": {},
   "source": [
    "# Data Preprocessing"
   ]
  },
  {
   "cell_type": "code",
   "execution_count": 68,
   "metadata": {
    "collapsed": true
   },
   "outputs": [],
   "source": [
    "from sklearn.preprocessing import LabelEncoder, OneHotEncoder"
   ]
  },
  {
   "cell_type": "code",
   "execution_count": 69,
   "metadata": {
    "collapsed": true
   },
   "outputs": [],
   "source": [
    "labelencoder_X_1 = LabelEncoder()\n",
    "X[:,1] = labelencoder_X_1.fit_transform(X[:,1])\n",
    "labelencoder_X_2 = LabelEncoder()\n",
    "X[:,2] = labelencoder_X_2.fit_transform(X[:,2])"
   ]
  },
  {
   "cell_type": "code",
   "execution_count": 70,
   "metadata": {},
   "outputs": [
    {
     "data": {
      "text/plain": [
       "array([[608, 2, 0, 41, 1, 83807.86, 1, 0, 1, 112542.58],\n",
       "       [502, 0, 0, 42, 8, 159660.8, 3, 1, 0, 113931.57],\n",
       "       [699, 0, 0, 39, 1, 0.0, 2, 0, 0, 93826.63],\n",
       "       [850, 2, 0, 43, 2, 125510.82, 1, 1, 1, 79084.1],\n",
       "       [645, 2, 1, 44, 8, 113755.78, 2, 1, 0, 149756.71],\n",
       "       [822, 0, 1, 50, 7, 0.0, 2, 1, 1, 10062.8],\n",
       "       [376, 1, 0, 29, 4, 115046.74, 4, 1, 0, 119346.88],\n",
       "       [501, 0, 1, 44, 4, 142051.07, 2, 0, 1, 74940.5],\n",
       "       [684, 0, 1, 27, 2, 134603.88, 1, 1, 1, 71725.73]], dtype=object)"
      ]
     },
     "execution_count": 70,
     "metadata": {},
     "output_type": "execute_result"
    }
   ],
   "source": [
    "X[1:10,:]"
   ]
  },
  {
   "cell_type": "code",
   "execution_count": 75,
   "metadata": {},
   "outputs": [
    {
     "data": {
      "text/plain": [
       "array([[528, 0, 1, 31, 6, 102016.72, 2, 0, 0, 80181.12],\n",
       "       [497, 2, 1, 24, 3, 0.0, 2, 1, 0, 76390.01],\n",
       "       [476, 0, 0, 34, 10, 0.0, 2, 1, 0, 26260.98],\n",
       "       [549, 0, 0, 25, 5, 0.0, 2, 0, 0, 190857.79],\n",
       "       [635, 2, 0, 35, 7, 0.0, 2, 1, 1, 65951.65],\n",
       "       [616, 1, 1, 45, 3, 143129.41, 2, 0, 1, 64327.26],\n",
       "       [653, 1, 1, 58, 1, 132602.88, 1, 1, 0, 5097.67],\n",
       "       [549, 2, 0, 24, 9, 0.0, 2, 1, 1, 14406.41],\n",
       "       [587, 2, 1, 45, 6, 0.0, 1, 0, 0, 158684.81],\n",
       "       [726, 0, 0, 24, 6, 0.0, 2, 1, 1, 54724.03]], dtype=object)"
      ]
     },
     "execution_count": 75,
     "metadata": {},
     "output_type": "execute_result"
    }
   ],
   "source": [
    "X[10:20,:]"
   ]
  },
  {
   "cell_type": "code",
   "execution_count": 63,
   "metadata": {},
   "outputs": [],
   "source": [
    "#onehotencoder = OneHotEncoder(categorical_features = [1])\n",
    "#X = onehotencoder.fit_transform(X).toarray()"
   ]
  },
  {
   "cell_type": "code",
   "execution_count": 72,
   "metadata": {},
   "outputs": [],
   "source": [
    "from sklearn.model_selection import train_test_split"
   ]
  },
  {
   "cell_type": "code",
   "execution_count": 76,
   "metadata": {
    "collapsed": true
   },
   "outputs": [],
   "source": [
    "X_train, X_test, y_train, y_test = train_test_split(X, y, test_size=0.33, random_state=42)"
   ]
  },
  {
   "cell_type": "code",
   "execution_count": 77,
   "metadata": {},
   "outputs": [
    {
     "name": "stderr",
     "output_type": "stream",
     "text": [
      "/Users/viveksasikumar/anaconda3/lib/python3.6/site-packages/sklearn/utils/validation.py:475: DataConversionWarning: Data with input dtype object was converted to float64 by StandardScaler.\n",
      "  warnings.warn(msg, DataConversionWarning)\n"
     ]
    }
   ],
   "source": [
    "from sklearn.preprocessing import StandardScaler\n",
    "sc = StandardScaler()\n",
    "X_train = sc.fit_transform(X_train)\n",
    "X_test = sc.transform(X_test)"
   ]
  },
  {
   "cell_type": "code",
   "execution_count": 107,
   "metadata": {
    "collapsed": true
   },
   "outputs": [],
   "source": [
    "import keras\n",
    "from keras.models import Sequential\n",
    "from keras.layers import Dense"
   ]
  },
  {
   "cell_type": "code",
   "execution_count": 108,
   "metadata": {
    "collapsed": true
   },
   "outputs": [],
   "source": [
    "classifier = Sequential()"
   ]
  },
  {
   "cell_type": "code",
   "execution_count": 114,
   "metadata": {},
   "outputs": [],
   "source": [
    "#Input and 1st Hidden Layer \n",
    "classifier.add(Dense(units=6,kernel_initializer='uniform',activation='relu',input_dim=10))"
   ]
  },
  {
   "cell_type": "code",
   "execution_count": 115,
   "metadata": {
    "collapsed": true
   },
   "outputs": [],
   "source": [
    "#adding 2nd Hidden Layer\n",
    "classifier.add(Dense(units=6,kernel_initializer='uniform',activation='relu'))"
   ]
  },
  {
   "cell_type": "code",
   "execution_count": 116,
   "metadata": {
    "collapsed": true
   },
   "outputs": [],
   "source": [
    "#Output Layer\n",
    "classifier.add(Dense(units=1,kernel_initializer='uniform',activation='sigmoid'))"
   ]
  },
  {
   "cell_type": "code",
   "execution_count": 117,
   "metadata": {
    "collapsed": true
   },
   "outputs": [],
   "source": [
    "#Compiling ANN\n",
    "classifier.compile(optimizer='adam',loss='binary_crossentropy',metrics=['accuracy'])"
   ]
  },
  {
   "cell_type": "code",
   "execution_count": 118,
   "metadata": {},
   "outputs": [
    {
     "name": "stderr",
     "output_type": "stream",
     "text": [
      "/Users/viveksasikumar/anaconda3/lib/python3.6/site-packages/keras/models.py:942: UserWarning: The `nb_epoch` argument in `fit` has been renamed `epochs`.\n",
      "  warnings.warn('The `nb_epoch` argument in `fit` '\n"
     ]
    },
    {
     "name": "stdout",
     "output_type": "stream",
     "text": [
      "Epoch 1/100\n",
      "6700/6700 [==============================] - 5s 714us/step - loss: 0.5953 - acc: 0.7913\n",
      "Epoch 2/100\n",
      "6700/6700 [==============================] - 4s 647us/step - loss: 0.5139 - acc: 0.7919\n",
      "Epoch 3/100\n",
      "6700/6700 [==============================] - 4s 646us/step - loss: 0.5115 - acc: 0.7919\n",
      "Epoch 4/100\n",
      "6700/6700 [==============================] - 4s 656us/step - loss: 0.5115 - acc: 0.7919\n",
      "Epoch 5/100\n",
      "6700/6700 [==============================] - 4s 652us/step - loss: 0.5115 - acc: 0.7919\n",
      "Epoch 6/100\n",
      "6700/6700 [==============================] - 4s 655us/step - loss: 0.5115 - acc: 0.7919\n",
      "Epoch 7/100\n",
      "6700/6700 [==============================] - 4s 658us/step - loss: 0.5115 - acc: 0.7919\n",
      "Epoch 8/100\n",
      "6700/6700 [==============================] - 4s 656us/step - loss: 0.5115 - acc: 0.7919\n",
      "Epoch 9/100\n",
      "6700/6700 [==============================] - 4s 663us/step - loss: 0.5115 - acc: 0.7919\n",
      "Epoch 10/100\n",
      "6700/6700 [==============================] - 4s 656us/step - loss: 0.5115 - acc: 0.7919\n",
      "Epoch 11/100\n",
      "6700/6700 [==============================] - 4s 658us/step - loss: 0.5115 - acc: 0.7919\n",
      "Epoch 12/100\n",
      "6700/6700 [==============================] - 4s 655us/step - loss: 0.5116 - acc: 0.7919\n",
      "Epoch 13/100\n",
      "6700/6700 [==============================] - 5s 676us/step - loss: 0.5115 - acc: 0.7919\n",
      "Epoch 14/100\n",
      "6700/6700 [==============================] - 4s 637us/step - loss: 0.5115 - acc: 0.7919\n",
      "Epoch 15/100\n",
      "6700/6700 [==============================] - 4s 662us/step - loss: 0.5115 - acc: 0.7919\n",
      "Epoch 16/100\n",
      "6700/6700 [==============================] - 5s 729us/step - loss: 0.5115 - acc: 0.7919\n",
      "Epoch 17/100\n",
      "6700/6700 [==============================] - 4s 670us/step - loss: 0.5115 - acc: 0.7919\n",
      "Epoch 18/100\n",
      "6700/6700 [==============================] - 4s 658us/step - loss: 0.5115 - acc: 0.7919\n",
      "Epoch 19/100\n",
      "6700/6700 [==============================] - 4s 668us/step - loss: 0.5115 - acc: 0.7919\n",
      "Epoch 20/100\n",
      "6700/6700 [==============================] - 4s 664us/step - loss: 0.5114 - acc: 0.7919\n",
      "Epoch 21/100\n",
      "6700/6700 [==============================] - 4s 661us/step - loss: 0.5115 - acc: 0.7919\n",
      "Epoch 22/100\n",
      "6700/6700 [==============================] - 5s 708us/step - loss: 0.5115 - acc: 0.7919\n",
      "Epoch 23/100\n",
      "6700/6700 [==============================] - 4s 654us/step - loss: 0.5115 - acc: 0.7919\n",
      "Epoch 24/100\n",
      "6700/6700 [==============================] - 4s 666us/step - loss: 0.5115 - acc: 0.7919\n",
      "Epoch 25/100\n",
      "6700/6700 [==============================] - 4s 668us/step - loss: 0.5115 - acc: 0.7919\n",
      "Epoch 26/100\n",
      "6700/6700 [==============================] - 4s 666us/step - loss: 0.5115 - acc: 0.7919\n",
      "Epoch 27/100\n",
      "6700/6700 [==============================] - 4s 664us/step - loss: 0.5115 - acc: 0.7919\n",
      "Epoch 28/100\n",
      "6700/6700 [==============================] - 4s 663us/step - loss: 0.5115 - acc: 0.7919\n",
      "Epoch 29/100\n",
      "6700/6700 [==============================] - 4s 668us/step - loss: 0.5115 - acc: 0.7919\n",
      "Epoch 30/100\n",
      "6700/6700 [==============================] - 4s 656us/step - loss: 0.5116 - acc: 0.7919\n",
      "Epoch 31/100\n",
      "6700/6700 [==============================] - 5s 692us/step - loss: 0.5115 - acc: 0.7919\n",
      "Epoch 32/100\n",
      "6700/6700 [==============================] - 4s 665us/step - loss: 0.5114 - acc: 0.7919\n",
      "Epoch 33/100\n",
      "6700/6700 [==============================] - 4s 665us/step - loss: 0.5115 - acc: 0.7919\n",
      "Epoch 34/100\n",
      "6700/6700 [==============================] - 4s 662us/step - loss: 0.5115 - acc: 0.7919\n",
      "Epoch 35/100\n",
      "6700/6700 [==============================] - 5s 679us/step - loss: 0.5115 - acc: 0.7919\n",
      "Epoch 36/100\n",
      "6700/6700 [==============================] - 4s 664us/step - loss: 0.5115 - acc: 0.7919\n",
      "Epoch 37/100\n",
      "6700/6700 [==============================] - 4s 664us/step - loss: 0.5116 - acc: 0.7919\n",
      "Epoch 38/100\n",
      "6700/6700 [==============================] - 4s 668us/step - loss: 0.5115 - acc: 0.7919\n",
      "Epoch 39/100\n",
      "6700/6700 [==============================] - 4s 662us/step - loss: 0.5116 - acc: 0.7919\n",
      "Epoch 40/100\n",
      "6700/6700 [==============================] - 5s 682us/step - loss: 0.5115 - acc: 0.7919\n",
      "Epoch 41/100\n",
      "6700/6700 [==============================] - 5s 686us/step - loss: 0.5115 - acc: 0.7919\n",
      "Epoch 42/100\n",
      "6700/6700 [==============================] - 4s 669us/step - loss: 0.5115 - acc: 0.7919\n",
      "Epoch 43/100\n",
      "6700/6700 [==============================] - 4s 663us/step - loss: 0.5115 - acc: 0.7919\n",
      "Epoch 44/100\n",
      "6700/6700 [==============================] - 4s 661us/step - loss: 0.5115 - acc: 0.7919\n",
      "Epoch 45/100\n",
      "6700/6700 [==============================] - 4s 657us/step - loss: 0.5115 - acc: 0.7919\n",
      "Epoch 46/100\n",
      "6700/6700 [==============================] - 5s 673us/step - loss: 0.5115 - acc: 0.7919\n",
      "Epoch 47/100\n",
      "6700/6700 [==============================] - 5s 673us/step - loss: 0.5115 - acc: 0.7919\n",
      "Epoch 48/100\n",
      "6700/6700 [==============================] - 5s 687us/step - loss: 0.5115 - acc: 0.7919\n",
      "Epoch 49/100\n",
      "6700/6700 [==============================] - 4s 649us/step - loss: 0.5115 - acc: 0.7919\n",
      "Epoch 50/100\n",
      "6700/6700 [==============================] - 4s 663us/step - loss: 0.5115 - acc: 0.7919\n",
      "Epoch 51/100\n",
      "6700/6700 [==============================] - 5s 692us/step - loss: 0.5115 - acc: 0.7919\n",
      "Epoch 52/100\n",
      "6700/6700 [==============================] - 5s 691us/step - loss: 0.5116 - acc: 0.7919\n",
      "Epoch 53/100\n",
      "6700/6700 [==============================] - 5s 692us/step - loss: 0.5116 - acc: 0.7919\n",
      "Epoch 54/100\n",
      "6700/6700 [==============================] - 5s 679us/step - loss: 0.5115 - acc: 0.7919\n",
      "Epoch 55/100\n",
      "6700/6700 [==============================] - 5s 693us/step - loss: 0.5115 - acc: 0.7919\n",
      "Epoch 56/100\n",
      "6700/6700 [==============================] - 4s 672us/step - loss: 0.5115 - acc: 0.7919\n",
      "Epoch 57/100\n",
      "6700/6700 [==============================] - 5s 691us/step - loss: 0.5115 - acc: 0.7919\n",
      "Epoch 58/100\n",
      "6700/6700 [==============================] - 5s 688us/step - loss: 0.5115 - acc: 0.7919\n",
      "Epoch 59/100\n",
      "6700/6700 [==============================] - 5s 684us/step - loss: 0.5115 - acc: 0.7919\n",
      "Epoch 60/100\n",
      "6700/6700 [==============================] - 5s 686us/step - loss: 0.5115 - acc: 0.7919\n",
      "Epoch 61/100\n",
      "6700/6700 [==============================] - 5s 686us/step - loss: 0.5115 - acc: 0.7919\n",
      "Epoch 62/100\n",
      "6700/6700 [==============================] - 4s 668us/step - loss: 0.5116 - acc: 0.7919\n",
      "Epoch 63/100\n",
      "6700/6700 [==============================] - 5s 687us/step - loss: 0.5115 - acc: 0.7919\n",
      "Epoch 64/100\n",
      "6700/6700 [==============================] - 5s 695us/step - loss: 0.5115 - acc: 0.7919\n",
      "Epoch 65/100\n",
      "6700/6700 [==============================] - 5s 698us/step - loss: 0.5114 - acc: 0.7919\n",
      "Epoch 66/100\n",
      "6700/6700 [==============================] - 5s 729us/step - loss: 0.5115 - acc: 0.7919\n",
      "Epoch 67/100\n",
      "6700/6700 [==============================] - 5s 677us/step - loss: 0.5115 - acc: 0.7919\n",
      "Epoch 68/100\n",
      "6700/6700 [==============================] - 5s 686us/step - loss: 0.5114 - acc: 0.7919\n",
      "Epoch 69/100\n",
      "6700/6700 [==============================] - 5s 697us/step - loss: 0.5115 - acc: 0.7919\n",
      "Epoch 70/100\n",
      "6700/6700 [==============================] - 5s 690us/step - loss: 0.5115 - acc: 0.7919\n",
      "Epoch 71/100\n",
      "6700/6700 [==============================] - 5s 700us/step - loss: 0.5114 - acc: 0.7919\n",
      "Epoch 72/100\n",
      "6700/6700 [==============================] - 5s 713us/step - loss: 0.5116 - acc: 0.7919\n",
      "Epoch 73/100\n",
      "6700/6700 [==============================] - 5s 713us/step - loss: 0.5115 - acc: 0.7919\n",
      "Epoch 74/100\n",
      "6700/6700 [==============================] - 5s 699us/step - loss: 0.5115 - acc: 0.7919\n",
      "Epoch 75/100\n",
      "6700/6700 [==============================] - 5s 732us/step - loss: 0.5115 - acc: 0.7919\n",
      "Epoch 76/100\n",
      "6700/6700 [==============================] - 5s 741us/step - loss: 0.5115 - acc: 0.7919\n",
      "Epoch 77/100\n",
      "6700/6700 [==============================] - 5s 714us/step - loss: 0.5115 - acc: 0.7919\n",
      "Epoch 78/100\n",
      "6700/6700 [==============================] - 5s 702us/step - loss: 0.5114 - acc: 0.7919\n",
      "Epoch 79/100\n",
      "6700/6700 [==============================] - 5s 672us/step - loss: 0.5115 - acc: 0.7919\n",
      "Epoch 80/100\n",
      "6700/6700 [==============================] - 5s 687us/step - loss: 0.5115 - acc: 0.7919\n",
      "Epoch 81/100\n",
      "6700/6700 [==============================] - 5s 693us/step - loss: 0.5115 - acc: 0.7919\n",
      "Epoch 82/100\n"
     ]
    },
    {
     "name": "stdout",
     "output_type": "stream",
     "text": [
      "6700/6700 [==============================] - 4s 662us/step - loss: 0.5115 - acc: 0.7919\n",
      "Epoch 83/100\n",
      "6700/6700 [==============================] - 4s 651us/step - loss: 0.5115 - acc: 0.7919\n",
      "Epoch 84/100\n",
      "6700/6700 [==============================] - 4s 657us/step - loss: 0.5115 - acc: 0.7919\n",
      "Epoch 85/100\n",
      "6700/6700 [==============================] - 4s 659us/step - loss: 0.5115 - acc: 0.7919\n",
      "Epoch 86/100\n",
      "6700/6700 [==============================] - 4s 655us/step - loss: 0.5115 - acc: 0.7919\n",
      "Epoch 87/100\n",
      "6700/6700 [==============================] - 4s 655us/step - loss: 0.5116 - acc: 0.7919\n",
      "Epoch 88/100\n",
      "6700/6700 [==============================] - 4s 647us/step - loss: 0.5115 - acc: 0.7919\n",
      "Epoch 89/100\n",
      "6700/6700 [==============================] - 4s 650us/step - loss: 0.5116 - acc: 0.7919\n",
      "Epoch 90/100\n",
      "6700/6700 [==============================] - 4s 665us/step - loss: 0.5114 - acc: 0.7919\n",
      "Epoch 91/100\n",
      "6700/6700 [==============================] - 4s 652us/step - loss: 0.5115 - acc: 0.7919\n",
      "Epoch 92/100\n",
      "6700/6700 [==============================] - 4s 657us/step - loss: 0.5115 - acc: 0.7919\n",
      "Epoch 93/100\n",
      "6700/6700 [==============================] - 4s 645us/step - loss: 0.5115 - acc: 0.7919\n",
      "Epoch 94/100\n",
      "6700/6700 [==============================] - 4s 653us/step - loss: 0.5115 - acc: 0.7919\n",
      "Epoch 95/100\n",
      "6700/6700 [==============================] - 4s 653us/step - loss: 0.5115 - acc: 0.7919\n",
      "Epoch 96/100\n",
      "6700/6700 [==============================] - 4s 639us/step - loss: 0.5115 - acc: 0.7919\n",
      "Epoch 97/100\n",
      "6700/6700 [==============================] - 4s 651us/step - loss: 0.5115 - acc: 0.7919\n",
      "Epoch 98/100\n",
      "6700/6700 [==============================] - 4s 650us/step - loss: 0.5115 - acc: 0.7919\n",
      "Epoch 99/100\n",
      "6700/6700 [==============================] - 4s 656us/step - loss: 0.5115 - acc: 0.7919\n",
      "Epoch 100/100\n",
      "6700/6700 [==============================] - 4s 653us/step - loss: 0.5115 - acc: 0.7919\n"
     ]
    },
    {
     "data": {
      "text/plain": [
       "<keras.callbacks.History at 0x11c32db70>"
      ]
     },
     "execution_count": 118,
     "metadata": {},
     "output_type": "execute_result"
    }
   ],
   "source": [
    "classifier.fit(X_train, y_train, batch_size=10, nb_epoch=100)"
   ]
  },
  {
   "cell_type": "code",
   "execution_count": 119,
   "metadata": {
    "collapsed": true
   },
   "outputs": [],
   "source": [
    "y_pred = classifier.predict(X_test)"
   ]
  },
  {
   "cell_type": "code",
   "execution_count": 121,
   "metadata": {
    "collapsed": true
   },
   "outputs": [],
   "source": [
    "y_pred = (y_pred>0.5)"
   ]
  },
  {
   "cell_type": "code",
   "execution_count": 128,
   "metadata": {},
   "outputs": [],
   "source": [
    "from sklearn.metrics import confusion_matrix,classification_report, accuracy_score\n",
    "cm = confusion_matrix(y_test, y_pred)"
   ]
  },
  {
   "cell_type": "code",
   "execution_count": 123,
   "metadata": {},
   "outputs": [
    {
     "data": {
      "text/plain": [
       "array([[2657,    0],\n",
       "       [ 643,    0]])"
      ]
     },
     "execution_count": 123,
     "metadata": {},
     "output_type": "execute_result"
    }
   ],
   "source": [
    "cm"
   ]
  },
  {
   "cell_type": "code",
   "execution_count": 127,
   "metadata": {},
   "outputs": [
    {
     "name": "stdout",
     "output_type": "stream",
     "text": [
      "             precision    recall  f1-score   support\n",
      "\n",
      "          0       0.81      1.00      0.89      2657\n",
      "          1       0.00      0.00      0.00       643\n",
      "\n",
      "avg / total       0.65      0.81      0.72      3300\n",
      "\n"
     ]
    },
    {
     "name": "stderr",
     "output_type": "stream",
     "text": [
      "/Users/viveksasikumar/anaconda3/lib/python3.6/site-packages/sklearn/metrics/classification.py:1135: UndefinedMetricWarning: Precision and F-score are ill-defined and being set to 0.0 in labels with no predicted samples.\n",
      "  'precision', 'predicted', average, warn_for)\n"
     ]
    }
   ],
   "source": [
    "print(classification_report(y_test, y_pred))"
   ]
  },
  {
   "cell_type": "code",
   "execution_count": 129,
   "metadata": {},
   "outputs": [
    {
     "name": "stdout",
     "output_type": "stream",
     "text": [
      "0.805151515152\n"
     ]
    }
   ],
   "source": [
    "print(accuracy_score(y_test,y_pred))"
   ]
  },
  {
   "cell_type": "code",
   "execution_count": null,
   "metadata": {
    "collapsed": true
   },
   "outputs": [],
   "source": []
  }
 ],
 "metadata": {
  "kernelspec": {
   "display_name": "Python 3",
   "language": "python",
   "name": "python3"
  },
  "language_info": {
   "codemirror_mode": {
    "name": "ipython",
    "version": 3
   },
   "file_extension": ".py",
   "mimetype": "text/x-python",
   "name": "python",
   "nbconvert_exporter": "python",
   "pygments_lexer": "ipython3",
   "version": "3.6.3"
  }
 },
 "nbformat": 4,
 "nbformat_minor": 2
}
